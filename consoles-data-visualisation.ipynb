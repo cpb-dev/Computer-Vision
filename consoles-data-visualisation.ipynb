{
 "cells": [
  {
   "cell_type": "code",
   "execution_count": 1,
   "id": "325ac29a",
   "metadata": {
    "_cell_guid": "b1076dfc-b9ad-4769-8c92-a6c4dae69d19",
    "_uuid": "8f2839f25d086af736a60e9eeb907d3b93b6e0e5",
    "execution": {
     "iopub.execute_input": "2023-04-18T19:24:08.744775Z",
     "iopub.status.busy": "2023-04-18T19:24:08.744347Z",
     "iopub.status.idle": "2023-04-18T19:24:08.763749Z",
     "shell.execute_reply": "2023-04-18T19:24:08.762317Z"
    },
    "papermill": {
     "duration": 0.027384,
     "end_time": "2023-04-18T19:24:08.766507",
     "exception": false,
     "start_time": "2023-04-18T19:24:08.739123",
     "status": "completed"
    },
    "tags": []
   },
   "outputs": [
    {
     "name": "stdout",
     "output_type": "stream",
     "text": [
      "/kaggle/input/best-selling-game-consoles-of-all-time/best-selling game consoles.csv\n"
     ]
    }
   ],
   "source": [
    "import numpy as np # linear algebra\n",
    "import pandas as pd # data processing, CSV file I/O (e.g. pd.read_csv)\n",
    "\n",
    "import os\n",
    "for dirname, _, filenames in os.walk('/kaggle/input'):\n",
    "    for filename in filenames:\n",
    "        print(os.path.join(dirname, filename))"
   ]
  },
  {
   "cell_type": "code",
   "execution_count": 2,
   "id": "d4216b53",
   "metadata": {
    "execution": {
     "iopub.execute_input": "2023-04-18T19:24:08.773994Z",
     "iopub.status.busy": "2023-04-18T19:24:08.773599Z",
     "iopub.status.idle": "2023-04-18T19:24:08.791458Z",
     "shell.execute_reply": "2023-04-18T19:24:08.789706Z"
    },
    "papermill": {
     "duration": 0.024681,
     "end_time": "2023-04-18T19:24:08.794076",
     "exception": false,
     "start_time": "2023-04-18T19:24:08.769395",
     "status": "completed"
    },
    "tags": []
   },
   "outputs": [
    {
     "name": "stdout",
     "output_type": "stream",
     "text": [
      "['Console Name', 'Type', 'Company', 'Released Year', 'Discontinuation Year', 'Units sold (million)', 'Remarks']\n",
      "(51, 7)\n"
     ]
    }
   ],
   "source": [
    "console_df = pd.read_csv('/kaggle/input/best-selling-game-consoles-of-all-time/best-selling game consoles.csv')\n",
    "\n",
    "print(console_df.columns.tolist())\n",
    "print(console_df.shape)"
   ]
  },
  {
   "cell_type": "code",
   "execution_count": 3,
   "id": "a99ae6c1",
   "metadata": {
    "execution": {
     "iopub.execute_input": "2023-04-18T19:24:08.801641Z",
     "iopub.status.busy": "2023-04-18T19:24:08.801206Z",
     "iopub.status.idle": "2023-04-18T19:24:08.813882Z",
     "shell.execute_reply": "2023-04-18T19:24:08.811940Z"
    },
    "papermill": {
     "duration": 0.019798,
     "end_time": "2023-04-18T19:24:08.816766",
     "exception": false,
     "start_time": "2023-04-18T19:24:08.796968",
     "status": "completed"
    },
    "tags": []
   },
   "outputs": [
    {
     "name": "stdout",
     "output_type": "stream",
     "text": [
      "Missing data in: \n",
      " Remarks    35\n",
      "dtype: int64\n"
     ]
    }
   ],
   "source": [
    "missing_vals = (console_df.isnull().sum())\n",
    "print(\"Missing data in: \\n\", missing_vals[missing_vals > 0])"
   ]
  },
  {
   "cell_type": "code",
   "execution_count": 4,
   "id": "48bd2e5b",
   "metadata": {
    "execution": {
     "iopub.execute_input": "2023-04-18T19:24:08.825214Z",
     "iopub.status.busy": "2023-04-18T19:24:08.824147Z",
     "iopub.status.idle": "2023-04-18T19:24:08.877662Z",
     "shell.execute_reply": "2023-04-18T19:24:08.876414Z"
    },
    "papermill": {
     "duration": 0.060456,
     "end_time": "2023-04-18T19:24:08.880134",
     "exception": false,
     "start_time": "2023-04-18T19:24:08.819678",
     "status": "completed"
    },
    "tags": []
   },
   "outputs": [
    {
     "data": {
      "text/html": [
       "<div>\n",
       "<style scoped>\n",
       "    .dataframe tbody tr th:only-of-type {\n",
       "        vertical-align: middle;\n",
       "    }\n",
       "\n",
       "    .dataframe tbody tr th {\n",
       "        vertical-align: top;\n",
       "    }\n",
       "\n",
       "    .dataframe thead th {\n",
       "        text-align: right;\n",
       "    }\n",
       "</style>\n",
       "<table border=\"1\" class=\"dataframe\">\n",
       "  <thead>\n",
       "    <tr style=\"text-align: right;\">\n",
       "      <th></th>\n",
       "      <th>Console Name</th>\n",
       "      <th>Type</th>\n",
       "      <th>Company</th>\n",
       "      <th>Released Year</th>\n",
       "      <th>Discontinuation Year</th>\n",
       "      <th>Units sold (million)</th>\n",
       "      <th>Remarks</th>\n",
       "    </tr>\n",
       "  </thead>\n",
       "  <tbody>\n",
       "    <tr>\n",
       "      <th>0</th>\n",
       "      <td>PlayStation 2</td>\n",
       "      <td>Home</td>\n",
       "      <td>Sony</td>\n",
       "      <td>2000</td>\n",
       "      <td>2013</td>\n",
       "      <td>155.00</td>\n",
       "      <td>Final sales are greater than 155 million</td>\n",
       "    </tr>\n",
       "    <tr>\n",
       "      <th>1</th>\n",
       "      <td>Nintendo DS</td>\n",
       "      <td>Handheld</td>\n",
       "      <td>Nintendo</td>\n",
       "      <td>2004</td>\n",
       "      <td>2013</td>\n",
       "      <td>154.02</td>\n",
       "      <td>NaN</td>\n",
       "    </tr>\n",
       "    <tr>\n",
       "      <th>2</th>\n",
       "      <td>Nintendo Switch</td>\n",
       "      <td>Hybrid</td>\n",
       "      <td>Nintendo</td>\n",
       "      <td>2017</td>\n",
       "      <td>0</td>\n",
       "      <td>122.55</td>\n",
       "      <td>NaN</td>\n",
       "    </tr>\n",
       "    <tr>\n",
       "      <th>3</th>\n",
       "      <td>Game Boy</td>\n",
       "      <td>Handheld</td>\n",
       "      <td>Nintendo</td>\n",
       "      <td>1989</td>\n",
       "      <td>2003</td>\n",
       "      <td>64.42</td>\n",
       "      <td>The Game Boy (1989) and the Game Boy Color (19...</td>\n",
       "    </tr>\n",
       "    <tr>\n",
       "      <th>4</th>\n",
       "      <td>Game Boy Color</td>\n",
       "      <td>Handheld</td>\n",
       "      <td>Nintendo</td>\n",
       "      <td>1998</td>\n",
       "      <td>2003</td>\n",
       "      <td>44.06</td>\n",
       "      <td>NaN</td>\n",
       "    </tr>\n",
       "  </tbody>\n",
       "</table>\n",
       "</div>"
      ],
      "text/plain": [
       "      Console Name      Type   Company  Released Year  Discontinuation Year  \\\n",
       "0    PlayStation 2      Home      Sony           2000                  2013   \n",
       "1      Nintendo DS  Handheld  Nintendo           2004                  2013   \n",
       "2  Nintendo Switch    Hybrid  Nintendo           2017                     0   \n",
       "3         Game Boy  Handheld  Nintendo           1989                  2003   \n",
       "4   Game Boy Color  Handheld  Nintendo           1998                  2003   \n",
       "\n",
       "   Units sold (million)                                            Remarks  \n",
       "0                155.00           Final sales are greater than 155 million  \n",
       "1                154.02                                                NaN  \n",
       "2                122.55                                                NaN  \n",
       "3                 64.42  The Game Boy (1989) and the Game Boy Color (19...  \n",
       "4                 44.06                                                NaN  "
      ]
     },
     "execution_count": 4,
     "metadata": {},
     "output_type": "execute_result"
    }
   ],
   "source": [
    "console_df.describe()\n",
    "console_df.head()"
   ]
  },
  {
   "cell_type": "code",
   "execution_count": 5,
   "id": "17351d41",
   "metadata": {
    "execution": {
     "iopub.execute_input": "2023-04-18T19:24:08.888360Z",
     "iopub.status.busy": "2023-04-18T19:24:08.887883Z",
     "iopub.status.idle": "2023-04-18T19:24:08.896344Z",
     "shell.execute_reply": "2023-04-18T19:24:08.894626Z"
    },
    "papermill": {
     "duration": 0.015839,
     "end_time": "2023-04-18T19:24:08.899169",
     "exception": false,
     "start_time": "2023-04-18T19:24:08.883330",
     "status": "completed"
    },
    "tags": []
   },
   "outputs": [
    {
     "name": "stdout",
     "output_type": "stream",
     "text": [
      "Nintendo                   17\n",
      "Sony                        7\n",
      "Sega                        7\n",
      "Microsoft                   4\n",
      "Atari                       4\n",
      "Tectoy                      2\n",
      "Coleco                      2\n",
      "NEC/Hudson Soft[note 6]     1\n",
      "Micro Genius                1\n",
      "Bandai                      1\n",
      "Mattel                      1\n",
      "Nokia                       1\n",
      "Magnavox/Philips            1\n",
      "NEC                         1\n",
      "Philips                     1\n",
      "Name: Company, dtype: int64\n"
     ]
    }
   ],
   "source": [
    "company_count = console_df['Company'].value_counts()\n",
    "print(company_count)"
   ]
  },
  {
   "cell_type": "code",
   "execution_count": 6,
   "id": "555a742d",
   "metadata": {
    "execution": {
     "iopub.execute_input": "2023-04-18T19:24:08.908482Z",
     "iopub.status.busy": "2023-04-18T19:24:08.907240Z",
     "iopub.status.idle": "2023-04-18T19:24:12.878156Z",
     "shell.execute_reply": "2023-04-18T19:24:12.876613Z"
    },
    "papermill": {
     "duration": 3.978556,
     "end_time": "2023-04-18T19:24:12.880995",
     "exception": false,
     "start_time": "2023-04-18T19:24:08.902439",
     "status": "completed"
    },
    "tags": []
   },
   "outputs": [
    {
     "data": {
      "text/html": [
       "        <script type=\"text/javascript\">\n",
       "        window.PlotlyConfig = {MathJaxConfig: 'local'};\n",
       "        if (window.MathJax && window.MathJax.Hub && window.MathJax.Hub.Config) {window.MathJax.Hub.Config({SVG: {font: \"STIX-Web\"}});}\n",
       "        if (typeof require !== 'undefined') {\n",
       "        require.undef(\"plotly\");\n",
       "        requirejs.config({\n",
       "            paths: {\n",
       "                'plotly': ['https://cdn.plot.ly/plotly-2.18.0.min']\n",
       "            }\n",
       "        });\n",
       "        require(['plotly'], function(Plotly) {\n",
       "            window._Plotly = Plotly;\n",
       "        });\n",
       "        }\n",
       "        </script>\n",
       "        "
      ]
     },
     "metadata": {},
     "output_type": "display_data"
    },
    {
     "data": {
      "text/html": [
       "<div>                            <div id=\"bc0800f8-669d-4de5-9193-7c23df31f0ed\" class=\"plotly-graph-div\" style=\"height:525px; width:100%;\"></div>            <script type=\"text/javascript\">                require([\"plotly\"], function(Plotly) {                    window.PLOTLYENV=window.PLOTLYENV || {};                                    if (document.getElementById(\"bc0800f8-669d-4de5-9193-7c23df31f0ed\")) {                    Plotly.newPlot(                        \"bc0800f8-669d-4de5-9193-7c23df31f0ed\",                        [{\"domain\":{\"x\":[0.0,1.0],\"y\":[0.0,1.0]},\"hovertemplate\":\"label=%{label}<br>value=%{value}<extra></extra>\",\"labels\":[\"Atari\",\"Bandai\",\"Coleco\",\"Magnavox/Philips\",\"Mattel\",\"Micro Genius\",\"Microsoft\",\"NEC\",\"NEC/Hudson Soft[note 6]\",\"Nintendo\",\"Nokia\",\"Philips\",\"Sega\",\"Sony\",\"Tectoy\"],\"legendgroup\":\"\",\"name\":\"\",\"showlegend\":true,\"values\":[33.0,3.5,3.0,2.0,3.0,6.0,185.0,1.92,10.0,883.11,3.0,1.0,78.4,589.09,11.0],\"type\":\"pie\",\"textfont\":{\"size\":12},\"marker\":{\"line\":{\"color\":\"#000000\",\"width\":1}},\"hoverinfo\":\"label+percent\"}],                        {\"template\":{\"data\":{\"histogram2dcontour\":[{\"type\":\"histogram2dcontour\",\"colorbar\":{\"outlinewidth\":0,\"ticks\":\"\"},\"colorscale\":[[0.0,\"#0d0887\"],[0.1111111111111111,\"#46039f\"],[0.2222222222222222,\"#7201a8\"],[0.3333333333333333,\"#9c179e\"],[0.4444444444444444,\"#bd3786\"],[0.5555555555555556,\"#d8576b\"],[0.6666666666666666,\"#ed7953\"],[0.7777777777777778,\"#fb9f3a\"],[0.8888888888888888,\"#fdca26\"],[1.0,\"#f0f921\"]]}],\"choropleth\":[{\"type\":\"choropleth\",\"colorbar\":{\"outlinewidth\":0,\"ticks\":\"\"}}],\"histogram2d\":[{\"type\":\"histogram2d\",\"colorbar\":{\"outlinewidth\":0,\"ticks\":\"\"},\"colorscale\":[[0.0,\"#0d0887\"],[0.1111111111111111,\"#46039f\"],[0.2222222222222222,\"#7201a8\"],[0.3333333333333333,\"#9c179e\"],[0.4444444444444444,\"#bd3786\"],[0.5555555555555556,\"#d8576b\"],[0.6666666666666666,\"#ed7953\"],[0.7777777777777778,\"#fb9f3a\"],[0.8888888888888888,\"#fdca26\"],[1.0,\"#f0f921\"]]}],\"heatmap\":[{\"type\":\"heatmap\",\"colorbar\":{\"outlinewidth\":0,\"ticks\":\"\"},\"colorscale\":[[0.0,\"#0d0887\"],[0.1111111111111111,\"#46039f\"],[0.2222222222222222,\"#7201a8\"],[0.3333333333333333,\"#9c179e\"],[0.4444444444444444,\"#bd3786\"],[0.5555555555555556,\"#d8576b\"],[0.6666666666666666,\"#ed7953\"],[0.7777777777777778,\"#fb9f3a\"],[0.8888888888888888,\"#fdca26\"],[1.0,\"#f0f921\"]]}],\"heatmapgl\":[{\"type\":\"heatmapgl\",\"colorbar\":{\"outlinewidth\":0,\"ticks\":\"\"},\"colorscale\":[[0.0,\"#0d0887\"],[0.1111111111111111,\"#46039f\"],[0.2222222222222222,\"#7201a8\"],[0.3333333333333333,\"#9c179e\"],[0.4444444444444444,\"#bd3786\"],[0.5555555555555556,\"#d8576b\"],[0.6666666666666666,\"#ed7953\"],[0.7777777777777778,\"#fb9f3a\"],[0.8888888888888888,\"#fdca26\"],[1.0,\"#f0f921\"]]}],\"contourcarpet\":[{\"type\":\"contourcarpet\",\"colorbar\":{\"outlinewidth\":0,\"ticks\":\"\"}}],\"contour\":[{\"type\":\"contour\",\"colorbar\":{\"outlinewidth\":0,\"ticks\":\"\"},\"colorscale\":[[0.0,\"#0d0887\"],[0.1111111111111111,\"#46039f\"],[0.2222222222222222,\"#7201a8\"],[0.3333333333333333,\"#9c179e\"],[0.4444444444444444,\"#bd3786\"],[0.5555555555555556,\"#d8576b\"],[0.6666666666666666,\"#ed7953\"],[0.7777777777777778,\"#fb9f3a\"],[0.8888888888888888,\"#fdca26\"],[1.0,\"#f0f921\"]]}],\"surface\":[{\"type\":\"surface\",\"colorbar\":{\"outlinewidth\":0,\"ticks\":\"\"},\"colorscale\":[[0.0,\"#0d0887\"],[0.1111111111111111,\"#46039f\"],[0.2222222222222222,\"#7201a8\"],[0.3333333333333333,\"#9c179e\"],[0.4444444444444444,\"#bd3786\"],[0.5555555555555556,\"#d8576b\"],[0.6666666666666666,\"#ed7953\"],[0.7777777777777778,\"#fb9f3a\"],[0.8888888888888888,\"#fdca26\"],[1.0,\"#f0f921\"]]}],\"mesh3d\":[{\"type\":\"mesh3d\",\"colorbar\":{\"outlinewidth\":0,\"ticks\":\"\"}}],\"scatter\":[{\"fillpattern\":{\"fillmode\":\"overlay\",\"size\":10,\"solidity\":0.2},\"type\":\"scatter\"}],\"parcoords\":[{\"type\":\"parcoords\",\"line\":{\"colorbar\":{\"outlinewidth\":0,\"ticks\":\"\"}}}],\"scatterpolargl\":[{\"type\":\"scatterpolargl\",\"marker\":{\"colorbar\":{\"outlinewidth\":0,\"ticks\":\"\"}}}],\"bar\":[{\"error_x\":{\"color\":\"#2a3f5f\"},\"error_y\":{\"color\":\"#2a3f5f\"},\"marker\":{\"line\":{\"color\":\"#E5ECF6\",\"width\":0.5},\"pattern\":{\"fillmode\":\"overlay\",\"size\":10,\"solidity\":0.2}},\"type\":\"bar\"}],\"scattergeo\":[{\"type\":\"scattergeo\",\"marker\":{\"colorbar\":{\"outlinewidth\":0,\"ticks\":\"\"}}}],\"scatterpolar\":[{\"type\":\"scatterpolar\",\"marker\":{\"colorbar\":{\"outlinewidth\":0,\"ticks\":\"\"}}}],\"histogram\":[{\"marker\":{\"pattern\":{\"fillmode\":\"overlay\",\"size\":10,\"solidity\":0.2}},\"type\":\"histogram\"}],\"scattergl\":[{\"type\":\"scattergl\",\"marker\":{\"colorbar\":{\"outlinewidth\":0,\"ticks\":\"\"}}}],\"scatter3d\":[{\"type\":\"scatter3d\",\"line\":{\"colorbar\":{\"outlinewidth\":0,\"ticks\":\"\"}},\"marker\":{\"colorbar\":{\"outlinewidth\":0,\"ticks\":\"\"}}}],\"scattermapbox\":[{\"type\":\"scattermapbox\",\"marker\":{\"colorbar\":{\"outlinewidth\":0,\"ticks\":\"\"}}}],\"scatterternary\":[{\"type\":\"scatterternary\",\"marker\":{\"colorbar\":{\"outlinewidth\":0,\"ticks\":\"\"}}}],\"scattercarpet\":[{\"type\":\"scattercarpet\",\"marker\":{\"colorbar\":{\"outlinewidth\":0,\"ticks\":\"\"}}}],\"carpet\":[{\"aaxis\":{\"endlinecolor\":\"#2a3f5f\",\"gridcolor\":\"white\",\"linecolor\":\"white\",\"minorgridcolor\":\"white\",\"startlinecolor\":\"#2a3f5f\"},\"baxis\":{\"endlinecolor\":\"#2a3f5f\",\"gridcolor\":\"white\",\"linecolor\":\"white\",\"minorgridcolor\":\"white\",\"startlinecolor\":\"#2a3f5f\"},\"type\":\"carpet\"}],\"table\":[{\"cells\":{\"fill\":{\"color\":\"#EBF0F8\"},\"line\":{\"color\":\"white\"}},\"header\":{\"fill\":{\"color\":\"#C8D4E3\"},\"line\":{\"color\":\"white\"}},\"type\":\"table\"}],\"barpolar\":[{\"marker\":{\"line\":{\"color\":\"#E5ECF6\",\"width\":0.5},\"pattern\":{\"fillmode\":\"overlay\",\"size\":10,\"solidity\":0.2}},\"type\":\"barpolar\"}],\"pie\":[{\"automargin\":true,\"type\":\"pie\"}]},\"layout\":{\"autotypenumbers\":\"strict\",\"colorway\":[\"#636efa\",\"#EF553B\",\"#00cc96\",\"#ab63fa\",\"#FFA15A\",\"#19d3f3\",\"#FF6692\",\"#B6E880\",\"#FF97FF\",\"#FECB52\"],\"font\":{\"color\":\"#2a3f5f\"},\"hovermode\":\"closest\",\"hoverlabel\":{\"align\":\"left\"},\"paper_bgcolor\":\"white\",\"plot_bgcolor\":\"#E5ECF6\",\"polar\":{\"bgcolor\":\"#E5ECF6\",\"angularaxis\":{\"gridcolor\":\"white\",\"linecolor\":\"white\",\"ticks\":\"\"},\"radialaxis\":{\"gridcolor\":\"white\",\"linecolor\":\"white\",\"ticks\":\"\"}},\"ternary\":{\"bgcolor\":\"#E5ECF6\",\"aaxis\":{\"gridcolor\":\"white\",\"linecolor\":\"white\",\"ticks\":\"\"},\"baxis\":{\"gridcolor\":\"white\",\"linecolor\":\"white\",\"ticks\":\"\"},\"caxis\":{\"gridcolor\":\"white\",\"linecolor\":\"white\",\"ticks\":\"\"}},\"coloraxis\":{\"colorbar\":{\"outlinewidth\":0,\"ticks\":\"\"}},\"colorscale\":{\"sequential\":[[0.0,\"#0d0887\"],[0.1111111111111111,\"#46039f\"],[0.2222222222222222,\"#7201a8\"],[0.3333333333333333,\"#9c179e\"],[0.4444444444444444,\"#bd3786\"],[0.5555555555555556,\"#d8576b\"],[0.6666666666666666,\"#ed7953\"],[0.7777777777777778,\"#fb9f3a\"],[0.8888888888888888,\"#fdca26\"],[1.0,\"#f0f921\"]],\"sequentialminus\":[[0.0,\"#0d0887\"],[0.1111111111111111,\"#46039f\"],[0.2222222222222222,\"#7201a8\"],[0.3333333333333333,\"#9c179e\"],[0.4444444444444444,\"#bd3786\"],[0.5555555555555556,\"#d8576b\"],[0.6666666666666666,\"#ed7953\"],[0.7777777777777778,\"#fb9f3a\"],[0.8888888888888888,\"#fdca26\"],[1.0,\"#f0f921\"]],\"diverging\":[[0,\"#8e0152\"],[0.1,\"#c51b7d\"],[0.2,\"#de77ae\"],[0.3,\"#f1b6da\"],[0.4,\"#fde0ef\"],[0.5,\"#f7f7f7\"],[0.6,\"#e6f5d0\"],[0.7,\"#b8e186\"],[0.8,\"#7fbc41\"],[0.9,\"#4d9221\"],[1,\"#276419\"]]},\"xaxis\":{\"gridcolor\":\"white\",\"linecolor\":\"white\",\"ticks\":\"\",\"title\":{\"standoff\":15},\"zerolinecolor\":\"white\",\"automargin\":true,\"zerolinewidth\":2},\"yaxis\":{\"gridcolor\":\"white\",\"linecolor\":\"white\",\"ticks\":\"\",\"title\":{\"standoff\":15},\"zerolinecolor\":\"white\",\"automargin\":true,\"zerolinewidth\":2},\"scene\":{\"xaxis\":{\"backgroundcolor\":\"#E5ECF6\",\"gridcolor\":\"white\",\"linecolor\":\"white\",\"showbackground\":true,\"ticks\":\"\",\"zerolinecolor\":\"white\",\"gridwidth\":2},\"yaxis\":{\"backgroundcolor\":\"#E5ECF6\",\"gridcolor\":\"white\",\"linecolor\":\"white\",\"showbackground\":true,\"ticks\":\"\",\"zerolinecolor\":\"white\",\"gridwidth\":2},\"zaxis\":{\"backgroundcolor\":\"#E5ECF6\",\"gridcolor\":\"white\",\"linecolor\":\"white\",\"showbackground\":true,\"ticks\":\"\",\"zerolinecolor\":\"white\",\"gridwidth\":2}},\"shapedefaults\":{\"line\":{\"color\":\"#2a3f5f\"}},\"annotationdefaults\":{\"arrowcolor\":\"#2a3f5f\",\"arrowhead\":0,\"arrowwidth\":1},\"geo\":{\"bgcolor\":\"white\",\"landcolor\":\"#E5ECF6\",\"subunitcolor\":\"white\",\"showland\":true,\"showlakes\":true,\"lakecolor\":\"white\"},\"title\":{\"x\":0.05},\"mapbox\":{\"style\":\"light\"}}},\"legend\":{\"tracegroupgap\":0},\"title\":{\"text\":\"Companies and total units sold\"}},                        {\"responsive\": true}                    ).then(function(){\n",
       "                            \n",
       "var gd = document.getElementById('bc0800f8-669d-4de5-9193-7c23df31f0ed');\n",
       "var x = new MutationObserver(function (mutations, observer) {{\n",
       "        var display = window.getComputedStyle(gd).display;\n",
       "        if (!display || display === 'none') {{\n",
       "            console.log([gd, 'removed!']);\n",
       "            Plotly.purge(gd);\n",
       "            observer.disconnect();\n",
       "        }}\n",
       "}});\n",
       "\n",
       "// Listen for the removal of the full notebook cells\n",
       "var notebookContainer = gd.closest('#notebook-container');\n",
       "if (notebookContainer) {{\n",
       "    x.observe(notebookContainer, {childList: true});\n",
       "}}\n",
       "\n",
       "// Listen for the clearing of the current output cell\n",
       "var outputEl = gd.closest('.output');\n",
       "if (outputEl) {{\n",
       "    x.observe(outputEl, {childList: true});\n",
       "}}\n",
       "\n",
       "                        })                };                });            </script>        </div>"
      ]
     },
     "metadata": {},
     "output_type": "display_data"
    }
   ],
   "source": [
    "import plotly.express as px\n",
    "\n",
    "comp_sold = console_df.groupby('Company')['Units sold (million)'].sum()\n",
    "\n",
    "fig = px.pie(console_df, \n",
    "             names = comp_sold.index, \n",
    "             values = comp_sold.values, \n",
    "             title = \"Companies and total units sold\", \n",
    "             labels = {'label': 'Company', 'value': 'Units Sold'})\n",
    "fig.update_traces(hoverinfo='label+percent', textfont_size=12,\n",
    "                  marker=dict(line=dict(color='#000000', width=1)))\n",
    "fig.show()"
   ]
  }
 ],
 "metadata": {
  "kernelspec": {
   "display_name": "Python 3",
   "language": "python",
   "name": "python3"
  },
  "language_info": {
   "codemirror_mode": {
    "name": "ipython",
    "version": 3
   },
   "file_extension": ".py",
   "mimetype": "text/x-python",
   "name": "python",
   "nbconvert_exporter": "python",
   "pygments_lexer": "ipython3",
   "version": "3.7.12"
  },
  "papermill": {
   "default_parameters": {},
   "duration": 16.086659,
   "end_time": "2023-04-18T19:24:13.809717",
   "environment_variables": {},
   "exception": null,
   "input_path": "__notebook__.ipynb",
   "output_path": "__notebook__.ipynb",
   "parameters": {},
   "start_time": "2023-04-18T19:23:57.723058",
   "version": "2.4.0"
  }
 },
 "nbformat": 4,
 "nbformat_minor": 5
}
