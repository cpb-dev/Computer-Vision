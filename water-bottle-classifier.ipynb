{
 "cells": [
  {
   "cell_type": "code",
   "execution_count": 1,
   "id": "61b00ae4",
   "metadata": {
    "_cell_guid": "b1076dfc-b9ad-4769-8c92-a6c4dae69d19",
    "_uuid": "8f2839f25d086af736a60e9eeb907d3b93b6e0e5",
    "execution": {
     "iopub.execute_input": "2023-02-17T19:08:22.859079Z",
     "iopub.status.busy": "2023-02-17T19:08:22.858075Z",
     "iopub.status.idle": "2023-02-17T19:08:22.880334Z",
     "shell.execute_reply": "2023-02-17T19:08:22.879116Z"
    },
    "papermill": {
     "duration": 0.030082,
     "end_time": "2023-02-17T19:08:22.883050",
     "exception": false,
     "start_time": "2023-02-17T19:08:22.852968",
     "status": "completed"
    },
    "tags": []
   },
   "outputs": [
    {
     "name": "stdout",
     "output_type": "stream",
     "text": [
      "['Full  Water level', 'Half water level', 'Overflowing']\n"
     ]
    }
   ],
   "source": [
    "import numpy as np # linear algebra\n",
    "import pandas as pd # data processing, CSV file I/O (e.g. pd.read_csv)\n",
    "\n",
    "import os\n",
    "\n",
    "files = \"/kaggle/input/water-bottle-dataset\"\n",
    "labels = os.listdir(files)\n",
    "print(labels)\n"
   ]
  },
  {
   "cell_type": "code",
   "execution_count": 2,
   "id": "6dffd689",
   "metadata": {
    "execution": {
     "iopub.execute_input": "2023-02-17T19:08:22.889149Z",
     "iopub.status.busy": "2023-02-17T19:08:22.888228Z",
     "iopub.status.idle": "2023-02-17T19:08:23.092012Z",
     "shell.execute_reply": "2023-02-17T19:08:23.090210Z"
    },
    "papermill": {
     "duration": 0.209684,
     "end_time": "2023-02-17T19:08:23.095006",
     "exception": false,
     "start_time": "2023-02-17T19:08:22.885322",
     "status": "completed"
    },
    "tags": []
   },
   "outputs": [
    {
     "name": "stdout",
     "output_type": "stream",
     "text": [
      "Files with full water bottles:  308\n",
      "Files with half full water bottles:  139\n",
      "Files with overflowing water bottles:  39\n"
     ]
    }
   ],
   "source": [
    "full_files = \"/kaggle/input/water-bottle-dataset/Full  Water level/Full  Water level\"\n",
    "half_files = \"/kaggle/input/water-bottle-dataset/Half water level/Half water level\"\n",
    "overflow_files = \"/kaggle/input/water-bottle-dataset/Overflowing/Overflowing\"\n",
    "\n",
    "print(\"Files with full water bottles: \", len([entry for entry in os.listdir(full_files) if os.path.isfile(os.path.join(full_files, entry))]))\n",
    "print(\"Files with half full water bottles: \", len([entry for entry in os.listdir(half_files) if os.path.isfile(os.path.join(half_files, entry))]))\n",
    "print(\"Files with overflowing water bottles: \", len([entry for entry in os.listdir(overflow_files) if os.path.isfile(os.path.join(overflow_files, entry))]))"
   ]
  },
  {
   "cell_type": "code",
   "execution_count": 3,
   "id": "06cb3db0",
   "metadata": {
    "execution": {
     "iopub.execute_input": "2023-02-17T19:08:23.101538Z",
     "iopub.status.busy": "2023-02-17T19:08:23.100998Z",
     "iopub.status.idle": "2023-02-17T19:08:31.412874Z",
     "shell.execute_reply": "2023-02-17T19:08:31.411461Z"
    },
    "papermill": {
     "duration": 8.318806,
     "end_time": "2023-02-17T19:08:31.416171",
     "exception": false,
     "start_time": "2023-02-17T19:08:23.097365",
     "status": "completed"
    },
    "tags": []
   },
   "outputs": [],
   "source": [
    "import matplotlib.pyplot as plt\n",
    "import seaborn as sns\n",
    "import keras\n",
    "from keras.models import Sequential\n",
    "from keras.layers import Dense, Conv2D , MaxPool2D , Flatten , Dropout \n",
    "from keras.preprocessing.image import ImageDataGenerator\n",
    "from keras.optimizers import Adam\n",
    "from sklearn.metrics import classification_report,confusion_matrix\n",
    "import tensorflow as tf\n",
    "import cv2"
   ]
  }
 ],
 "metadata": {
  "kernelspec": {
   "display_name": "Python 3",
   "language": "python",
   "name": "python3"
  },
  "language_info": {
   "codemirror_mode": {
    "name": "ipython",
    "version": 3
   },
   "file_extension": ".py",
   "mimetype": "text/x-python",
   "name": "python",
   "nbconvert_exporter": "python",
   "pygments_lexer": "ipython3",
   "version": "3.7.12"
  },
  "papermill": {
   "default_parameters": {},
   "duration": 20.131013,
   "end_time": "2023-02-17T19:08:34.576964",
   "environment_variables": {},
   "exception": null,
   "input_path": "__notebook__.ipynb",
   "output_path": "__notebook__.ipynb",
   "parameters": {},
   "start_time": "2023-02-17T19:08:14.445951",
   "version": "2.3.4"
  }
 },
 "nbformat": 4,
 "nbformat_minor": 5
}
