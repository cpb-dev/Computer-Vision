{
 "cells": [
  {
   "cell_type": "code",
   "execution_count": 1,
   "id": "f83d76d7",
   "metadata": {
    "_cell_guid": "b1076dfc-b9ad-4769-8c92-a6c4dae69d19",
    "_uuid": "8f2839f25d086af736a60e9eeb907d3b93b6e0e5",
    "execution": {
     "iopub.execute_input": "2023-03-02T17:26:12.240848Z",
     "iopub.status.busy": "2023-03-02T17:26:12.239845Z",
     "iopub.status.idle": "2023-03-02T17:26:12.261560Z",
     "shell.execute_reply": "2023-03-02T17:26:12.260119Z"
    },
    "papermill": {
     "duration": 0.029957,
     "end_time": "2023-03-02T17:26:12.265014",
     "exception": false,
     "start_time": "2023-03-02T17:26:12.235057",
     "status": "completed"
    },
    "tags": []
   },
   "outputs": [
    {
     "name": "stdout",
     "output_type": "stream",
     "text": [
      "['Full  Water level', 'Half water level', 'Overflowing']\n"
     ]
    }
   ],
   "source": [
    "import numpy as np # linear algebra\n",
    "import pandas as pd # data processing, CSV file I/O (e.g. pd.read_csv)\n",
    "\n",
    "import os\n",
    "import pathlib\n",
    "\n",
    "files = \"/kaggle/input/water-bottle-dataset\"\n",
    "data_dir = pathlib.Path(files)\n",
    "labels = os.listdir(files)\n",
    "print(labels)\n"
   ]
  },
  {
   "cell_type": "code",
   "execution_count": 2,
   "id": "c7425ac6",
   "metadata": {
    "execution": {
     "iopub.execute_input": "2023-03-02T17:26:12.272472Z",
     "iopub.status.busy": "2023-03-02T17:26:12.271987Z",
     "iopub.status.idle": "2023-03-02T17:26:12.379171Z",
     "shell.execute_reply": "2023-03-02T17:26:12.377780Z"
    },
    "papermill": {
     "duration": 0.11351,
     "end_time": "2023-03-02T17:26:12.381850",
     "exception": false,
     "start_time": "2023-03-02T17:26:12.268340",
     "status": "completed"
    },
    "tags": []
   },
   "outputs": [
    {
     "name": "stdout",
     "output_type": "stream",
     "text": [
      "Image count:  429\n",
      "Files with full water bottles:  308\n",
      "Files with half full water bottles:  139\n",
      "Files with overflowing water bottles:  39\n"
     ]
    }
   ],
   "source": [
    "full_files = \"/kaggle/input/water-bottle-dataset/Full  Water level/Full  Water level\"\n",
    "half_files = \"/kaggle/input/water-bottle-dataset/Half water level/Half water level\"\n",
    "overflow_files = \"/kaggle/input/water-bottle-dataset/Overflowing/Overflowing\"\n",
    "image_count = len(list(data_dir.glob('*/*/*.jpeg')))\n",
    "\n",
    "print(\"Image count: \", image_count)\n",
    "\n",
    "print(\"Files with full water bottles: \", len([entry for entry in os.listdir(full_files) if os.path.isfile(os.path.join(full_files, entry))]))\n",
    "print(\"Files with half full water bottles: \", len([entry for entry in os.listdir(half_files) if os.path.isfile(os.path.join(half_files, entry))]))\n",
    "print(\"Files with overflowing water bottles: \", len([entry for entry in os.listdir(overflow_files) if os.path.isfile(os.path.join(overflow_files, entry))]))\n",
    "#486 files in total"
   ]
  },
  {
   "cell_type": "code",
   "execution_count": 3,
   "id": "0ebe604e",
   "metadata": {
    "execution": {
     "iopub.execute_input": "2023-03-02T17:26:12.388246Z",
     "iopub.status.busy": "2023-03-02T17:26:12.387887Z",
     "iopub.status.idle": "2023-03-02T17:26:21.283799Z",
     "shell.execute_reply": "2023-03-02T17:26:21.282537Z"
    },
    "papermill": {
     "duration": 8.902117,
     "end_time": "2023-03-02T17:26:21.286586",
     "exception": false,
     "start_time": "2023-03-02T17:26:12.384469",
     "status": "completed"
    },
    "tags": []
   },
   "outputs": [],
   "source": [
    "import matplotlib.pyplot as plt\n",
    "import seaborn as sns\n",
    "import keras\n",
    "from keras.models import Sequential\n",
    "from keras.layers import Dense, Conv2D , MaxPool2D , Flatten , Dropout \n",
    "from keras.preprocessing.image import ImageDataGenerator\n",
    "from keras.optimizers import Adam\n",
    "from sklearn.metrics import classification_report,confusion_matrix\n",
    "import tensorflow as tf\n",
    "import PIL\n",
    "import cv2\n",
    "import shutil"
   ]
  },
  {
   "cell_type": "code",
   "execution_count": 4,
   "id": "5e59fe7f",
   "metadata": {
    "execution": {
     "iopub.execute_input": "2023-03-02T17:26:21.294333Z",
     "iopub.status.busy": "2023-03-02T17:26:21.293228Z",
     "iopub.status.idle": "2023-03-02T17:26:23.950032Z",
     "shell.execute_reply": "2023-03-02T17:26:23.948976Z"
    },
    "papermill": {
     "duration": 2.663632,
     "end_time": "2023-03-02T17:26:23.952648",
     "exception": false,
     "start_time": "2023-03-02T17:26:21.289016",
     "status": "completed"
    },
    "tags": []
   },
   "outputs": [],
   "source": [
    "#Creating outputs\n",
    "output_path = \"/kaggle/working/transformed-data\"\n",
    "\n",
    "if not os.path.exists(output_path):\n",
    "    os.mkdir(os.path.join(output_path))\n",
    "    \n",
    "for label in labels:\n",
    "    label_dir = str(label + \"/\" + label)\n",
    "    sub_label = os.path.join(data_dir,label_dir)\n",
    "    \n",
    "    #Gathering images for each label\n",
    "    images = [i for i in os.listdir(sub_label) if i.endswith(\".jpeg\") or i.endswith(\".png\")]\n",
    "    \n",
    "    #Starting training and validation sets\n",
    "    split_size = 0.8\n",
    "    train_len = int(len(images) * split_size)\n",
    "    train_images = images[:train_len]\n",
    "    val_images = images[train_len:]\n",
    "    \n",
    "    #create validation and training directories\n",
    "    train_path = os.path.join(output_path, \"train\")\n",
    "    val_path = os.path.join(output_path, \"val\")\n",
    "    \n",
    "    label_train_path = os.path.join(train_path, label)\n",
    "    label_val_path = os.path.join(val_path, label)\n",
    "    \n",
    "    #Making sure directories aren't doubled when Notebook gets re-run\n",
    "    if not os.path.exists(train_path):\n",
    "        os.mkdir(train_path)\n",
    "    if not os.path.exists(label_train_path):\n",
    "        os.mkdir(label_train_path)\n",
    "        \n",
    "    if not os.path.exists(val_path):\n",
    "        os.mkdir(val_path)  \n",
    "    if not os.path.exists(label_val_path):\n",
    "        os.mkdir(label_val_path)\n",
    "        \n",
    "    for image in train_images:\n",
    "        shutil.copy(os.path.join(sub_label, image), label_train_path)\n",
    "    for image in val_images:\n",
    "        shutil.copy(os.path.join(sub_label, image), label_val_path)"
   ]
  }
 ],
 "metadata": {
  "kernelspec": {
   "display_name": "Python 3",
   "language": "python",
   "name": "python3"
  },
  "language_info": {
   "codemirror_mode": {
    "name": "ipython",
    "version": 3
   },
   "file_extension": ".py",
   "mimetype": "text/x-python",
   "name": "python",
   "nbconvert_exporter": "python",
   "pygments_lexer": "ipython3",
   "version": "3.7.12"
  },
  "papermill": {
   "default_parameters": {},
   "duration": 24.612335,
   "end_time": "2023-03-02T17:26:27.000186",
   "environment_variables": {},
   "exception": null,
   "input_path": "__notebook__.ipynb",
   "output_path": "__notebook__.ipynb",
   "parameters": {},
   "start_time": "2023-03-02T17:26:02.387851",
   "version": "2.3.4"
  }
 },
 "nbformat": 4,
 "nbformat_minor": 5
}
